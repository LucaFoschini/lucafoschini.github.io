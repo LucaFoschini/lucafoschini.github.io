{
 "metadata": {
  "name": ""
 },
 "nbformat": 3,
 "nbformat_minor": 0,
 "worksheets": [
  {
   "cells": [
    {
     "cell_type": "code",
     "collapsed": false,
     "input": [
      "import csv\n",
      "import datetime\n",
      "\n",
      "data = {}\n",
      "for name in ['All', 'IO']:\n",
      "    with open('../data/push_monthly_%s_results-20140115.csv' % name, 'rb') as f:\n",
      "        data[name] = [x for x in csv.reader(f)][1:]\n",
      "        times = [datetime.date(int(x[0].split('-')[0]), int(x[0].split('-')[1]), 1)- datetime.timedelta(days=1) for x in data[name]]\n",
      "        data[name] = zip(times, [x[1] for x in data[name]][1:]) \n",
      "print data"
     ],
     "language": "python",
     "metadata": {},
     "outputs": [
      {
       "output_type": "stream",
       "stream": "stdout",
       "text": [
        "{'All': [(datetime.date(2013, 12, 31), '3940402'), (datetime.date(2013, 11, 30), '4127836'), (datetime.date(2013, 10, 31), '4120425'), (datetime.date(2013, 9, 30), '3228452'), (datetime.date(2013, 8, 31), '3350591'), (datetime.date(2013, 7, 31), '3389635'), (datetime.date(2013, 6, 30), '3062284'), (datetime.date(2013, 5, 31), '3254160'), (datetime.date(2013, 4, 30), '3181036'), (datetime.date(2013, 3, 31), '3070438'), (datetime.date(2013, 2, 28), '2560090'), (datetime.date(2013, 1, 31), '2562120'), (datetime.date(2012, 12, 31), '2138611'), (datetime.date(2012, 11, 30), '2221531'), (datetime.date(2012, 10, 31), '2142613'), (datetime.date(2012, 9, 30), '2517692'), (datetime.date(2012, 8, 31), '5281228'), (datetime.date(2012, 7, 31), '3419654'), (datetime.date(2012, 6, 30), '3874916'), (datetime.date(2012, 5, 31), '4869366'), (datetime.date(2012, 4, 30), '4701156'), (datetime.date(2012, 3, 31), '3216540')], 'IO': [(datetime.date(2013, 12, 31), '103398'), (datetime.date(2013, 11, 30), '88961'), (datetime.date(2013, 10, 31), '83400'), (datetime.date(2013, 9, 30), '64670'), (datetime.date(2013, 8, 31), '65133'), (datetime.date(2013, 7, 31), '57025'), (datetime.date(2013, 6, 30), '50705'), (datetime.date(2013, 5, 31), '42614'), (datetime.date(2013, 4, 30), '22029')]}\n"
       ]
      }
     ],
     "prompt_number": 46
    },
    {
     "cell_type": "code",
     "collapsed": false,
     "input": [
      "ratios = [(v[0][0].strftime('%s000'), float(v[0][1])/float(v[1][1])*100.0) for v in zip(data['IO'], data['All'])] "
     ],
     "language": "python",
     "metadata": {},
     "outputs": [],
     "prompt_number": 53
    },
    {
     "cell_type": "code",
     "collapsed": false,
     "input": [
      "import json\n",
      "output = []\n",
      "output.append({'key': '% io_push vs total_push', 'values' : ratios})\n",
      "with open('../data/githubIO.json', 'w') as f:\n",
      "    f.write(json.dumps(output))"
     ],
     "language": "python",
     "metadata": {},
     "outputs": [],
     "prompt_number": 59
    },
    {
     "cell_type": "code",
     "collapsed": false,
     "input": [],
     "language": "python",
     "metadata": {},
     "outputs": []
    }
   ],
   "metadata": {}
  }
 ]
}